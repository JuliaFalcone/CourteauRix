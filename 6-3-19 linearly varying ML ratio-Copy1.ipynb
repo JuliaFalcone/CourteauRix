{
 "cells": [
  {
   "cell_type": "code",
   "execution_count": 1,
   "metadata": {},
   "outputs": [],
   "source": [
    "import numpy as np\n",
    "import scipy.interpolate as interp\n",
    "import matplotlib.pyplot as plt\n",
    "import math\n",
    "from scipy import stats\n",
    "import glob\n",
    "from scipy.interpolate import interp1d\n",
    "import mplcursors\n",
    "%matplotlib inline\n",
    "from matplotlib.widgets import Slider, Button, RadioButtons\n",
    "from ipywidgets import interact #, interactive, fixed, interact_manual\n",
    "#import ipywidgets as widgets"
   ]
  },
  {
   "cell_type": "markdown",
   "metadata": {},
   "source": [
    "So we saw in the 5-30-19 that we couldn't get dlog(V)/dlog(R) to be the desired -0.5. What I'm doing in this is going back to change the ML_bulge and ML_disk linearly. To do so, I'm going to re-find Vp, bary and use my own velocity values instead of Starkman.\n",
    "\n",
    "instead of interpolating, will just choose max points as Vp_bary, Vp_obs"
   ]
  },
  {
   "cell_type": "code",
   "execution_count": 2,
   "metadata": {},
   "outputs": [],
   "source": [
    "ML_disk, ML_bulge, DM_frac, SB_bary,  Ltot, HImass, Vflat, index_stop = np.loadtxt('data for good galaxies.csv', delimiter=',', skiprows = 1, usecols = (1,2,3,5,14,20,22,24),unpack = True)\n",
    "Lbulge  = np.loadtxt('sparc global measurements.csv', delimiter=',', unpack = True, skiprows = 2, usecols = (20)) \n",
    "sparc = np.load('sparc_dict.npy').item()\n",
    "name = np.loadtxt('starkman data.csv', delimiter=',', skiprows = 2, usecols = (0), dtype = 'object', unpack = True)\n",
    "rad_start, rad_stop = np.loadtxt('bracketing curves.csv', delimiter=',', skiprows = 1, usecols = (3,4),unpack = True)\n",
    "\n",
    "Ltot, Lbulge, HImass = Ltot*1e9, Lbulge*1e9, HImass*1e9\n"
   ]
  },
  {
   "cell_type": "code",
   "execution_count": 3,
   "metadata": {},
   "outputs": [],
   "source": [
    "len_tot = 116\n",
    "Rp_arr = np.empty(len_tot) #stores Rp\n",
    "DM_frac = np.empty(len_tot) #stores fraction of galaxies which are DM by mass\n",
    "SB_bary = np.empty(len_tot) #stores baryonic surface brightness\n",
    "Mbary_arr  = np.empty(len_tot) #stores baryonic mass of galaxy\n",
    "ML_disk  = np.full(len_tot, 0.5)\n",
    "ML_bulge  = np.full(len_tot, 0.7)\n",
    "Vp_baryarr = np.empty(len_tot) #stores Vp of baryonic rotation curve\n",
    "Vp_obsarr = np.empty(len_tot) #stores Vp of observed rotation curve\n",
    "index_stoparr = np.empty(len_tot) #stores the array index of Rp\n",
    "index_peakarr = np.empty(len_tot) #stores the array index of the upper bracket for finding Rp"
   ]
  },
  {
   "cell_type": "code",
   "execution_count": 4,
   "metadata": {},
   "outputs": [],
   "source": [
    "def interpolation(gal_name, mult_factor, start, stop):\n",
    "    ML_disknew, ML_bulgenew = 0.5*mult_factor, 0.7*mult_factor\n",
    "   \n",
    "    vbary = np.sqrt(ML_disknew * sparc[gal_name+\"_Vdisk\"]**2 + ML_bulgenew * sparc[gal_name+\"_Vbul\"]**2 + sparc[gal_name+\"_Vgas\"]**2 )\n",
    "\n",
    "    interp_vobs = interp.UnivariateSpline(sparc[gal_name+\"_rad\"], sparc[gal_name+'_Vobs'])\n",
    "    radius_vals = np.linspace(sparc[gal_name+\"_rad\"].min(), sparc[gal_name+\"_rad\"].max(), 1000)\n",
    "    interp_vbary = interp.UnivariateSpline(sparc[gal_name+\"_rad\"], vbary)\n",
    "    \n",
    "    index_start =np.argmin(np.abs(start - radius_vals))\n",
    "    index_stop = np.argmin(np.abs(stop - radius_vals))\n",
    "    interp_vbaryderiv = interp_vbary(radius_vals, nu=1)\n",
    "    index_peak = index_start + np.argmax(interp_vbary(radius_vals)[index_start:index_stop])#np.argmin(np.abs(interp_vbaryderiv))#\n",
    "    \n",
    "    Rp = radius_vals[index_peak]\n",
    "    Rp_arr[sparc[gal_name+\"_index\"]] = Rp\n",
    "    Vp_bary = interp_vbary(Rp)\n",
    "    Vp_obs = interp_vobs(Rp)\n",
    "    \n",
    "    DM_frac[sparc[gal_name+\"_index\"]] = (Vp_obs - Vp_bary)/Vp_obs\n",
    "    SB_bary[sparc[gal_name+\"_index\"]]  = (3/4) * (Mbary_arr[sparc[gal_name+\"_index\"]]/Rp**2)#\n",
    "    Vp_baryarr[sparc[gal_name+\"_index\"]] = Vp_bary\n",
    "    Vp_obsarr[sparc[gal_name+\"_index\"]] = Vp_obs\n",
    "    index_peakarr[sparc[gal_name+\"_index\"]] = index_peak\n",
    "    index_stoparr[sparc[gal_name+\"_index\"]] = index_stop\n",
    "        "
   ]
  },
  {
   "cell_type": "code",
   "execution_count": 5,
   "metadata": {},
   "outputs": [],
   "source": [
    "def ML_linear(mult_factor):\n",
    "    ML_disknew = 0.5 * mult_factor\n",
    "    ML_bulgenew = 0.7 * mult_factor\n",
    "\n",
    "    lum_orig = Ltot #using original M/L\n",
    "    Lgas = HImass * (1/1.33)\n",
    "    Lbulgenew = Lbulge*(ML_bulge/ML_bulgenew)\n",
    "    Ldisknew = (Ltot - Lbulge - Lgas)*(ML_disk/ML_disknew)\n",
    "    lum_new = Lgas + Ldisknew + Lbulgenew #using new M/L with changes applied\n",
    "    #print(Ltot - Lbulgenew - Lgasnew)\n",
    "\n",
    "    ##Vobs\n",
    "    coeff,cov=np.polyfit(np.log10(lum_new), np.log10(Vp_obsarr),1,cov=True) #creating best-fit line from modified data\n",
    "    coeff_err = np.sqrt(np.diag(cov))\n",
    "    xfit=np.linspace(min(np.log10(lum_orig)),max(np.log10(lum_orig)),1000)\n",
    "    polynomial=np.poly1d(coeff)\n",
    "\n",
    "    delt_Vnew = np.log10(Vp_obsarr) - (coeff[0]*np.log10(lum_orig) + coeff[1]) #delt_v = Vp_obs - (mx+b) where m,b solved in best fit line\n",
    "\n",
    "    ## Rp\n",
    "    coeff,cov=np.polyfit(np.log10(lum_new), np.log10(Rp_arr),1,cov=True) #creating best-fit line from modified data\n",
    "    coeff_err = np.sqrt(np.diag(cov))\n",
    "    xfit=np.linspace(min(np.log10(lum_orig)),max(np.log10(lum_orig)),1000)\n",
    "    polynomial=np.poly1d(coeff)\n",
    "\n",
    "    delt_Rnew = np.log10(Rp_arr) - (coeff[0]*np.log10(lum_orig) + coeff[1])\n",
    "    \n",
    "    \n",
    "    plt.figure(figsize=(12,10))\n",
    "    \n",
    "    goodvals = np.where((Vp_obsarr > Vp_baryarr) & (index_peakarr < index_stoparr))\n",
    "    plt.scatter(delt_Rnew[goodvals], delt_Vnew[goodvals], c =DM_frac[goodvals], cmap=plt.cm.get_cmap('plasma_r'))\n",
    "    plt.colorbar().set_label(\"DM fraction\")\n",
    "    plt.axis('equal')\n",
    "    plt.xlabel('d log(Rp)', fontsize = 'large')\n",
    "    plt.ylabel('d log(V)', fontsize = 'large')\n",
    "\n",
    "    coeff,cov=np.polyfit(delt_Rnew[goodvals], delt_Vnew[goodvals],1,cov=True)\n",
    "    coeff_err = np.sqrt(np.diag(cov))\n",
    "    xfit=np.linspace(min(delt_Rnew[goodvals]),max(delt_Rnew[goodvals]),1000)\n",
    "    polynomial=np.poly1d(coeff)\n",
    "    plt.plot(xfit,polynomial(xfit),color='green')\n",
    "    print('    slope = {:.6f} +/- {:.3f}'.format(coeff[0],coeff_err[0]))\n",
    "\n",
    "    plt.plot(xfit, xfit*-.5, ls = ':')\n",
    "    plt.axhline(ls = ':')\n",
    "    #print('    mean dV/dR = {:.3f}'.format(np.mean(delt_Vnew / delt_Rnew)))\n",
    "\n",
    "                                                                              \n",
    "                                                                              "
   ]
  },
  {
   "cell_type": "code",
   "execution_count": 14,
   "metadata": {},
   "outputs": [],
   "source": [
    "# def dVdR():\n",
    "#     for x in range(len(name)):\n",
    "#          interpolation(name[x], np.exp(-2/(1*Rp_arr[x])), rad_start[x], rad_stop[x])\n",
    "#     ML_linear(np.exp(-2/(1*Rp_arr)))\n",
    "# dVdR()\n",
    "# import numpy as np\n",
    "# import scipy.interpolate as interp\n",
    "# import matplotlib.pyplot as plt\n",
    "# import math\n",
    "# from scipy import stats\n",
    "# import glob\n",
    "# from scipy.interpolate import interp1d\n",
    "# import mplcursors\n",
    "# %matplotlib inline\n",
    "# from matplotlib.widgets import Slider, Button, RadioButtons\n",
    "# from ipywidgets import interact #, interactive, fixed, interact_manual\n",
    "# #import ipywidgets as widgets\n",
    "\n",
    "\n",
    "# name = np.loadtxt('starkman data.csv', delimiter=',', skiprows = 2, usecols = (0), dtype = 'object', unpack = True)\n",
    "# rad_start, rad_stop = np.loadtxt('bracketing curves.csv', delimiter=',', skiprows = 1, usecols = (3,4),unpack = True)\n",
    "# ML_disk, ML_bulge, DM_frac, SB_bary,  Ltot, HImass, Vflat, index_stop = np.loadtxt('data for good galaxies.csv', delimiter=',', skiprows = 1, usecols = (1,2,3,5,14,20,22,24),unpack = True)\n",
    "# Lbulge  = np.loadtxt('sparc global measurements.csv', delimiter=',', unpack = True, skiprows = 2, usecols = (20)) \n",
    "# sparc = np.load('sparc_dict.npy', allow_pickle=True).item()\n",
    "\n",
    "def dVdR(mult_factor):\n",
    "    for x in range(len(name)):\n",
    "        interpolation(name[x], mult_factor, rad_start[x], rad_stop[x])\n",
    "    ML_linear(mult_factor)\n",
    "\n",
    "# options = {\n",
    "#     'xlim': (-1.5, 1),\n",
    "#     'ylim': (-1, 1.25),\n",
    "# }\n",
    "\n",
    "# from ipywidgets import interact #, interactive, fixed, interact_manual\n",
    "\n",
    "#interact(dVdR, mult_factor=(0,3, .01)) \n",
    "#options = options,"
   ]
  },
  {
   "cell_type": "code",
   "execution_count": 15,
   "metadata": {},
   "outputs": [],
   "source": [
    "#https://juliafalcone.github.io/CourteauRix/6-3-19%20linearly%20varying%20ML%20ratio.html"
   ]
  },
  {
   "cell_type": "code",
   "execution_count": 16,
   "metadata": {},
   "outputs": [],
   "source": [
    "#nbi:hide_in"
   ]
  },
  {
   "cell_type": "code",
   "execution_count": 17,
   "metadata": {},
   "outputs": [
    {
     "name": "stdout",
     "output_type": "stream",
     "text": [
      "    slope = -0.002502 +/- 0.045\n"
     ]
    },
    {
     "data": {
      "image/png": "[encoded data removed]",
      "text/plain": [
       "<Figure size 864x720 with 2 Axes>"
      ]
     },
     "metadata": {},
     "output_type": "display_data"
    }
   ],
   "source": [
    "dVdR(2)"
   ]
  },
  {
   "cell_type": "code",
   "execution_count": null,
   "metadata": {},
   "outputs": [],
   "source": []
  }
 ],
 "metadata": {
  "kernelspec": {
   "display_name": "Python 3",
   "language": "python",
   "name": "python3"
  },
  "language_info": {
   "codemirror_mode": {
    "name": "ipython",
    "version": 3
   },
   "file_extension": ".py",
   "mimetype": "text/x-python",
   "name": "python",
   "nbconvert_exporter": "python",
   "pygments_lexer": "ipython3",
   "version": "3.6.5"
  }
 },
 "nbformat": 4,
 "nbformat_minor": 2
}
