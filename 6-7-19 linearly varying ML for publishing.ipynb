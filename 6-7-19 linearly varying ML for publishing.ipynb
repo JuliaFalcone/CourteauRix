{
 "cells": [
  {
   "cell_type": "markdown",
   "metadata": {},
   "source": [
    "# How to use this notebook:\n",
    "\n",
    "At first, there will be a lot of code cluttering things up. To hide of the code, at the top of the page click Kernal --> Restart and Run All. This will run the program and now you will have the ability to toggle on/off the raw code."
   ]
  },
  {
   "cell_type": "code",
   "execution_count": 11,
   "metadata": {},
   "outputs": [
    {
     "data": {
      "text/html": [
       "<script>\n",
       "code_show=true; \n",
       "function code_toggle() {\n",
       " if (code_show){\n",
       " $('div.input').hide();\n",
       " } else {\n",
       " $('div.input').show();\n",
       " }\n",
       " code_show = !code_show\n",
       "} \n",
       "$( document ).ready(code_toggle);\n",
       "</script>\n",
       "<form action=\"javascript:code_toggle()\"><input type=\"submit\" value=\"Click here to toggle on/off the raw code.\"></form>"
      ],
      "text/plain": [
       "<IPython.core.display.HTML object>"
      ]
     },
     "execution_count": 11,
     "metadata": {},
     "output_type": "execute_result"
    }
   ],
   "source": [
    "import numpy as np\n",
    "import scipy.interpolate as interp\n",
    "import matplotlib.pyplot as plt\n",
    "import math\n",
    "from scipy import stats\n",
    "import glob\n",
    "from scipy.interpolate import interp1d\n",
    "import mplcursors\n",
    "%matplotlib inline\n",
    "from matplotlib.widgets import Slider, Button, RadioButtons\n",
    "from ipywidgets import interact, interactive, fixed, interact_manual\n",
    "import ipywidgets as widgets\n",
    "\n",
    "from IPython.display import HTML, display\n",
    "import IPython\n",
    "\n",
    "HTML('''<script>\n",
    "code_show=true; \n",
    "function code_toggle() {\n",
    " if (code_show){\n",
    " $('div.input').hide();\n",
    " } else {\n",
    " $('div.input').show();\n",
    " }\n",
    " code_show = !code_show\n",
    "} \n",
    "$( document ).ready(code_toggle);\n",
    "</script>\n",
    "<form action=\"javascript:code_toggle()\"><input type=\"submit\" value=\"Click here to toggle on/off the raw code.\"></form>''')"
   ]
  },
  {
   "cell_type": "code",
   "execution_count": 2,
   "metadata": {},
   "outputs": [],
   "source": [
    "ML_disk, ML_bulge, DM_frac, SB_bary,  Ltot, HImass, Vflat, index_stop = np.loadtxt('data for good galaxies.csv', delimiter=',', skiprows = 1, usecols = (1,2,3,5,14,20,22,24),unpack = True)\n",
    "Lbulge  = np.loadtxt('sparc global measurements.csv', delimiter=',', unpack = True, skiprows = 2, usecols = (20)) \n",
    "sparc = np.load('sparc_dict.npy').item()\n",
    "name = np.loadtxt('starkman data.csv', delimiter=',', skiprows = 2, usecols = (0), dtype = 'object', unpack = True)\n",
    "rad_start, rad_stop = np.loadtxt('bracketing curves.csv', delimiter=',', skiprows = 1, usecols = (3,4),unpack = True)\n",
    "\n",
    "Ltot, Lbulge, HImass = Ltot*1e9, Lbulge*1e9, HImass*1e9\n"
   ]
  },
  {
   "cell_type": "code",
   "execution_count": 3,
   "metadata": {},
   "outputs": [],
   "source": [
    "len_tot = 116\n",
    "Rp_arr = np.empty(len_tot) #stores Rp\n",
    "DM_frac = np.empty(len_tot) #stores fraction of galaxies which are DM by mass\n",
    "SB_bary = np.empty(len_tot) #stores baryonic surface brightness\n",
    "Mbary_arr  = np.empty(len_tot) #stores baryonic mass of galaxy\n",
    "ML_disk  = np.full(len_tot, 0.5)\n",
    "ML_bulge  = np.full(len_tot, 0.7)\n",
    "Vp_baryarr = np.empty(len_tot) #stores Vp of baryonic rotation curve\n",
    "Vp_obsarr = np.empty(len_tot) #stores Vp of observed rotation curve\n",
    "index_stoparr = np.empty(len_tot) #stores the array index of Rp\n",
    "index_peakarr = np.empty(len_tot) #stores the array index of the upper bracket for finding Rp\n",
    "\n",
    "Lnew =np.empty(len_tot)\n",
    "Lold =np.empty(len_tot)"
   ]
  },
  {
   "cell_type": "code",
   "execution_count": 4,
   "metadata": {},
   "outputs": [],
   "source": [
    "def interpolation(gal_name, mult_factor, start, stop):\n",
    "    ML_disknew, ML_bulgenew = 0.5*mult_factor, 0.7*mult_factor\n",
    "   \n",
    "    vbary = np.sqrt(ML_disknew * sparc[gal_name+\"_Vdisk\"]**2 + ML_bulgenew * sparc[gal_name+\"_Vbul\"]**2 + sparc[gal_name+\"_Vgas\"]**2 )\n",
    "\n",
    "    interp_vobs = interp.UnivariateSpline(sparc[gal_name+\"_rad\"], sparc[gal_name+'_Vobs'])\n",
    "    radius_vals = np.linspace(sparc[gal_name+\"_rad\"].min(), sparc[gal_name+\"_rad\"].max(), 1000)\n",
    "    interp_vbary = interp.UnivariateSpline(sparc[gal_name+\"_rad\"], vbary)\n",
    "    \n",
    "    index_start =np.argmin(np.abs(start - radius_vals))\n",
    "    index_stop = np.argmin(np.abs(stop - radius_vals))\n",
    "    interp_vbaryderiv = interp_vbary(radius_vals, nu=1)\n",
    "    index_peak = index_start + np.argmax(interp_vbary(radius_vals)[index_start:index_stop])#np.argmin(np.abs(interp_vbaryderiv))#\n",
    "    \n",
    "    Rp = radius_vals[index_peak]\n",
    "    Rp_arr[sparc[gal_name+\"_index\"]] = Rp\n",
    "    Vp_bary = interp_vbary(Rp)\n",
    "    Vp_obs = interp_vobs(Rp)\n",
    "    \n",
    "    DM_frac[sparc[gal_name+\"_index\"]] = (Vp_obs - Vp_bary)/Vp_obs\n",
    "    SB_bary[sparc[gal_name+\"_index\"]]  = (3/4) * (Mbary_arr[sparc[gal_name+\"_index\"]]/Rp**2)#\n",
    "    Vp_baryarr[sparc[gal_name+\"_index\"]] = Vp_bary\n",
    "    Vp_obsarr[sparc[gal_name+\"_index\"]] = Vp_obs\n",
    "    index_peakarr[sparc[gal_name+\"_index\"]] = index_peak\n",
    "    index_stoparr[sparc[gal_name+\"_index\"]] = index_stop\n",
    "    \n",
    "    Lgas = HImass[sparc[gal_name+\"_index\"]] * (1/1.33)\n",
    "    Lbulgenew = ML_bulge[sparc[gal_name+\"_index\"]]*(ML_bulge[sparc[gal_name+\"_index\"]]/ML_bulgenew)\n",
    "    Ldisknew = (Ltot[sparc[gal_name+\"_index\"]] - Lbulge[sparc[gal_name+\"_index\"]] - Lgas)*(ML_disk[sparc[gal_name+\"_index\"]]/ML_disknew)\n",
    "    \n",
    "    Lbulgeold = ML_bulge[sparc[gal_name+\"_index\"]]\n",
    "    Ldiskold = (Ltot[sparc[gal_name+\"_index\"]] - Lbulge[sparc[gal_name+\"_index\"]] - Lgas)\n",
    "    \n",
    "    Lnew[sparc[gal_name+\"_index\"]] = Lgas + Ldisknew + Lbulgenew\n",
    "    Lold[sparc[gal_name+\"_index\"]] = Lgas + Ldiskold + Lbulgeold\n",
    "        "
   ]
  },
  {
   "cell_type": "markdown",
   "metadata": {},
   "source": [
    "Below, `mult_factor` represents the factor by which the mass to light ratios of the bulge and disk (initially set at 0.7 and 0.5, respectively) are multiplied. For example, setting the slider value to 2 would set $\\Upsilon_{bulge}=1.4, \\Upsilon_{disk}=1$. The diagonal dashed line represents a dlog(V)/dlog(R) of -0.5, which was predicted in [Courteau & Rix (1999)](https://iopscience.iop.org/article/10.1086/306872/meta). However, as playing with the slider shows, the slope doesn't reach nearly that level of steepness.\n",
    "\n",
    "The minimum value of the slider is 0.77 because below that, the values of luminosities can become negative."
   ]
  },
  {
   "cell_type": "code",
   "execution_count": 5,
   "metadata": {},
   "outputs": [],
   "source": [
    "def other_plots():\n",
    "\n",
    "    fig, (ax1, ax2) = plt.subplots(nrows=1, ncols=2, figsize=(20, 6))\n",
    "\n",
    "\n",
    "    print('modified M/L = original M/L * mult_factor')\n",
    "\n",
    "    lum_orig = Lold #using original M/L\n",
    "    lum_new = Lnew #using new M/L with changes applied\n",
    "\n",
    "    ##Vobs\n",
    "    ax1.scatter(np.log10(lum_orig), np.log10(Vp_obsarr),alpha=0.5, label = 'original M/L')\n",
    "    ax1.scatter(np.log10(lum_new), np.log10(Vp_obsarr), alpha=0.5, label = ('M/L * mult_factor'))\n",
    "    ax1.set_xlabel('log(L) [Lsun]', fontsize = 'large')\n",
    "    ax1.set_ylabel('log(Vobs) [km/s]', fontsize = 'large')\n",
    "    ax1.legend()\n",
    "\n",
    "    coeff,cov=np.polyfit(np.log10(lum_orig), np.log10(Vp_obsarr),1,cov=True) #creating best-fit line from original data\n",
    "    coeff_err = np.sqrt(np.diag(cov))\n",
    "    xfit=np.linspace(min(np.log10(lum_orig)),max(np.log10(lum_orig)),1000)\n",
    "    polynomial=np.poly1d(coeff)\n",
    "    ax1.plot(xfit,polynomial(xfit),color='blue', alpha=.5)\n",
    "    print(' \\n  with original M/L: dV/dM = {:.3f} +/- {:.3f}'.format(coeff[0],coeff_err[0]))\n",
    "\n",
    "    coeff,cov=np.polyfit(np.log10(lum_new), np.log10(Vp_obsarr),1,cov=True) #creating best-fit line from modified data\n",
    "    coeff_err = np.sqrt(np.diag(cov))\n",
    "    xfit=np.linspace(min(np.log10(lum_orig)),max(np.log10(lum_orig)),1000)\n",
    "    polynomial=np.poly1d(coeff)\n",
    "    ax1.plot(xfit,polynomial(xfit),color='orange')\n",
    "    print('  with modified M/L: dV/dM = {:.3f} +/- {:.3f}'.format(coeff[0],coeff_err[0]))\n",
    "\n",
    "    delt_Vnew = np.log10(Vp_obsarr) - (coeff[0]*np.log10(lum_orig) + coeff[1]) #delt_v = Vp_obs - (mx+b) where m,b solved in best fit line\n",
    "\n",
    "    ## Rp\n",
    "    ax2.scatter(np.log10(lum_orig), np.log10(Rp_arr),alpha=0.5, label = 'original M/L')\n",
    "    ax2.scatter(np.log10(lum_new), np.log10(Rp_arr), alpha=0.5,label = ('M/L * mult_factor'))\n",
    "    ax2.set_xlabel('log(L) [Lsun]', fontsize = 'large')\n",
    "    ax2.set_ylabel('log(Rp) [kpc]', fontsize = 'large')\n",
    "    ax2.legend()\n",
    "\n",
    "    coeff,cov=np.polyfit(np.log10(lum_orig), np.log10(Rp_arr),1,cov=True) #creating best-fit line from original data\n",
    "    coeff_err = np.sqrt(np.diag(cov))\n",
    "    xfit=np.linspace(min(np.log10(lum_orig)),max(np.log10(lum_orig)),1000)\n",
    "    polynomial=np.poly1d(coeff)\n",
    "    ax2.plot(xfit,polynomial(xfit),color='blue', alpha=.5)\n",
    "    print(' \\n  with original M/L: dR/dM = {:.3f} +/- {:.3f}'.format(coeff[0],coeff_err[0]))\n",
    "\n",
    "    coeff,cov=np.polyfit(np.log10(lum_new), np.log10(Rp_arr),1,cov=True) #creating best-fit line from modified data\n",
    "    coeff_err = np.sqrt(np.diag(cov))\n",
    "    xfit=np.linspace(min(np.log10(lum_orig)),max(np.log10(lum_orig)),1000)\n",
    "    polynomial=np.poly1d(coeff)\n",
    "    ax2.plot(xfit,polynomial(xfit),color='orange')\n",
    "    print('  with modified M/L: dR/dM = {:.3f} +/- {:.3f}'.format(coeff[0],coeff_err[0]))\n",
    "    #print(delt_Vnew, delt_Rnew)\n",
    "\n",
    "    delt_Rnew = np.log10(Rp_arr) - (coeff[0]*np.log10(lum_orig) + coeff[1])\n"
   ]
  },
  {
   "cell_type": "code",
   "execution_count": 6,
   "metadata": {},
   "outputs": [],
   "source": [
    "def ML_linear(mult_factor):\n",
    "    ML_disknew = 0.5 * mult_factor\n",
    "    ML_bulgenew = 0.7 * mult_factor\n",
    "\n",
    "    lum_orig = Ltot #using original M/L\n",
    "    lum_new = Lnew\n",
    "\n",
    "    ##Vobs\n",
    "    coeff,cov=np.polyfit(np.log10(lum_new), np.log10(Vp_obsarr),1,cov=True) #creating best-fit line from modified data\n",
    "    coeff_err = np.sqrt(np.diag(cov))\n",
    "    xfit=np.linspace(min(np.log10(lum_orig)),max(np.log10(lum_orig)),1000)\n",
    "    polynomial=np.poly1d(coeff)\n",
    "\n",
    "    delt_Vnew = np.log10(Vp_obsarr) - (coeff[0]*np.log10(lum_orig) + coeff[1]) #delt_v = Vp_obs - (mx+b) where m,b solved in best fit line\n",
    "\n",
    "    ## Rp\n",
    "    coeff,cov=np.polyfit(np.log10(lum_new), np.log10(Rp_arr),1,cov=True) #creating best-fit line from modified data\n",
    "    coeff_err = np.sqrt(np.diag(cov))\n",
    "    xfit=np.linspace(min(np.log10(lum_orig)),max(np.log10(lum_orig)),1000)\n",
    "    polynomial=np.poly1d(coeff)\n",
    "\n",
    "    delt_Rnew = np.log10(Rp_arr) - (coeff[0]*np.log10(lum_orig) + coeff[1])\n",
    "    \n",
    "    \n",
    "    plt.figure(figsize=(12,10))\n",
    "    \n",
    "    goodvals = np.where((Vp_obsarr > Vp_baryarr) & (index_peakarr < index_stoparr))\n",
    "    plt.scatter(delt_Rnew[goodvals], delt_Vnew[goodvals], c =DM_frac[goodvals], cmap=plt.cm.get_cmap('plasma_r'))\n",
    "    plt.colorbar().set_label(\"DM fraction\")\n",
    "    plt.axis('equal')\n",
    "    plt.xlabel('d log(Rp)', fontsize = 'large')\n",
    "    plt.ylabel('d log(V)', fontsize = 'large')\n",
    "\n",
    "    coeff,cov=np.polyfit(delt_Rnew[goodvals], delt_Vnew[goodvals],1,cov=True)\n",
    "    coeff_err = np.sqrt(np.diag(cov))\n",
    "    xfit=np.linspace(min(delt_Rnew[goodvals]),max(delt_Rnew[goodvals]),1000)\n",
    "    polynomial=np.poly1d(coeff)\n",
    "    plt.plot(xfit,polynomial(xfit),color='green')\n",
    "    print('    slope = {:.6f} +/- {:.3f}'.format(coeff[0],coeff_err[0]))\n",
    "\n",
    "    plt.plot(xfit, xfit*-.5, ls = ':')\n",
    "    plt.axhline(ls = ':')\n",
    "    return coeff[0],coeff_err[0]\n",
    "    \n",
    "    #print('    mean dV/dR = {:.3f}'.format(np.mean(delt_Vnew / delt_Rnew)))\n",
    "\n",
    "                                                                              \n",
    "                                                                              "
   ]
  },
  {
   "cell_type": "code",
   "execution_count": 7,
   "metadata": {},
   "outputs": [
    {
     "data": {
      "application/vnd.jupyter.widget-view+json": {
       "model_id": "c00321c5a9ab4850a660b0f40aa14731",
       "version_major": 2,
       "version_minor": 0
      },
      "text/plain": [
       "interactive(children=(FloatSlider(value=1.0, continuous_update=False, description='mult_factor', max=5.0, min=…"
      ]
     },
     "metadata": {},
     "output_type": "display_data"
    },
    {
     "data": {
      "text/plain": [
       "<function __main__.dVdR(mult_factor)>"
      ]
     },
     "execution_count": 7,
     "metadata": {},
     "output_type": "execute_result"
    }
   ],
   "source": [
    "# def dVdR():\n",
    "#     for x in range(len(name)):\n",
    "#          interpolation(name[x], np.exp(-2/(1*Rp_arr[x])), rad_start[x], rad_stop[x])\n",
    "#     ML_linear(np.exp(-2/(1*Rp_arr)))\n",
    "# dVdR()\n",
    "\n",
    "def dVdR(mult_factor):\n",
    "    for x in range(len(name)):\n",
    "        interpolation(name[x], mult_factor, rad_start[x], rad_stop[x])\n",
    "    slope, slope_err = ML_linear(mult_factor)\n",
    "    return slope, slope_err\n",
    "\n",
    "interact(dVdR, mult_factor=widgets.FloatSlider(value=1, min=0.01, max=5,step=0.01, continuous_update=False)) \n"
   ]
  },
  {
   "cell_type": "markdown",
   "metadata": {},
   "source": [
    "The graphs below provide a little more insight into the graph above. On the left, I have graphed V vs. L (effectively Tully-Fisher) using both the original and new M/L, and fitted best-fit lines for each. The same is done on the right, except with Rp vs. L. The dlog(V) and dlog(R) values above are found by calculating the distance between the velocity of a point and the velocity of its corresponding place on the best-fit line, keeping the same luminosity value. \n",
    "\n",
    "Although the above graph updates automatically with changing M/L, you must click the \"press to reload\" button to update the graphs below. "
   ]
  },
  {
   "cell_type": "code",
   "execution_count": 10,
   "metadata": {
    "scrolled": false
   },
   "outputs": [
    {
     "name": "stdout",
     "output_type": "stream",
     "text": [
      "modified M/L = original M/L * mult_factor\n",
      " \n",
      "  with original M/L: dV/dM = 0.254 +/- 0.009\n",
      "  with modified M/L: dV/dM = 0.254 +/- 0.009\n",
      " \n",
      "  with original M/L: dR/dM = 0.112 +/- 0.029\n",
      "  with modified M/L: dR/dM = 0.112 +/- 0.029\n"
     ]
    },
    {
     "data": {
      "application/vnd.jupyter.widget-view+json": {
       "model_id": "5ccfa5c44b7c42bbaf8fba7384536893",
       "version_major": 2,
       "version_minor": 0
      },
      "text/plain": [
       "Button(description='press to reload', style=ButtonStyle())"
      ]
     },
     "metadata": {},
     "output_type": "display_data"
    },
    {
     "data": {
      "image/png": "[encoded data removed]",
      "text/plain": [
       "<Figure size 1440x432 with 2 Axes>"
      ]
     },
     "metadata": {},
     "output_type": "display_data"
    }
   ],
   "source": [
    "def on_button_clicked(b):\n",
    "    IPython.display.clear_output()\n",
    "    other_plots()\n",
    "    display(button)\n",
    "\n",
    "button = widgets.Button(description=\"press to reload\")\n",
    "display(button)\n",
    "button.on_click(on_button_clicked)"
   ]
  },
  {
   "cell_type": "code",
   "execution_count": null,
   "metadata": {},
   "outputs": [],
   "source": []
  }
 ],
 "metadata": {
  "kernelspec": {
   "display_name": "Python 3",
   "language": "python",
   "name": "python3"
  },
  "language_info": {
   "codemirror_mode": {
    "name": "ipython",
    "version": 3
   },
   "file_extension": ".py",
   "mimetype": "text/x-python",
   "name": "python",
   "nbconvert_exporter": "python",
   "pygments_lexer": "ipython3",
   "version": "3.6.5"
  }
 },
 "nbformat": 4,
 "nbformat_minor": 2
}
