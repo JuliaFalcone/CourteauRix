{
 "cells": [
  {
   "cell_type": "markdown",
   "metadata": {},
   "source": [
    "# How to use this notebook:\n",
    "\n",
    "At first, there will be a lot of code cluttering things up. To hide of the code, at the top of the page click Kernal --> Restart and Run All. This will run the program and now you will have the ability to toggle on/off the raw code."
   ]
  },
  {
   "cell_type": "code",
   "execution_count": 1,
   "metadata": {},
   "outputs": [
    {
     "data": {
      "text/html": [
       "<script>\n",
       "code_show=true; \n",
       "function code_toggle() {\n",
       " if (code_show){\n",
       " $('div.input').hide();\n",
       " } else {\n",
       " $('div.input').show();\n",
       " }\n",
       " code_show = !code_show\n",
       "} \n",
       "$( document ).ready(code_toggle);\n",
       "</script>\n",
       "<form action=\"javascript:code_toggle()\"><input type=\"submit\" value=\"Click here to toggle on/off the raw code.\"></form>"
      ],
      "text/plain": [
       "<IPython.core.display.HTML object>"
      ]
     },
     "execution_count": 1,
     "metadata": {},
     "output_type": "execute_result"
    }
   ],
   "source": [
    "import numpy as np\n",
    "import scipy.interpolate as interp\n",
    "import matplotlib.pyplot as plt\n",
    "import math\n",
    "from scipy import stats\n",
    "import glob\n",
    "from scipy.interpolate import interp1d\n",
    "import mplcursors\n",
    "%matplotlib inline\n",
    "from matplotlib.widgets import Slider, Button, RadioButtons\n",
    "from ipywidgets import interact, interactive, fixed, interact_manual\n",
    "import ipywidgets as widgets\n",
    "\n",
    "from IPython.display import HTML, display\n",
    "import IPython\n",
    "from astropy import constants as const\n",
    "from astropy import units as u\n",
    "\n",
    "HTML('''<script>\n",
    "code_show=true; \n",
    "function code_toggle() {\n",
    " if (code_show){\n",
    " $('div.input').hide();\n",
    " } else {\n",
    " $('div.input').show();\n",
    " }\n",
    " code_show = !code_show\n",
    "} \n",
    "$( document ).ready(code_toggle);\n",
    "</script>\n",
    "<form action=\"javascript:code_toggle()\"><input type=\"submit\" value=\"Click here to toggle on/off the raw code.\"></form>''')"
   ]
  },
  {
   "cell_type": "code",
   "execution_count": 2,
   "metadata": {},
   "outputs": [],
   "source": [
    "ML_disk, ML_bulge, DM_frac, SB_bary, Ltot, HImass, Vflat, index_stop = np.loadtxt('data for good galaxies.csv', delimiter=',', skiprows = 1, usecols = (1,2,3,5,14,20,22,24),unpack = True)\n",
    "Lbulge  = np.loadtxt('sparc global measurements.csv', delimiter=',', unpack = True, skiprows = 2, usecols = (20)) \n",
    "sparc = np.load('sparc_dict.npy').item()\n",
    "name = np.loadtxt('starkman data.csv', delimiter=',', skiprows = 2, usecols = (0), dtype = 'object', unpack = True)\n",
    "Mbary = np.loadtxt('starkman data.csv', delimiter=',', skiprows = 2, usecols = (19), unpack = True)\n",
    "rad_start, rad_stop = np.loadtxt('bracketing curves.csv', delimiter=',', skiprows = 1, usecols = (3,4),unpack = True)\n",
    "\n",
    "Ltot, Lbulge, HImass , Mbary = Ltot*1e9, Lbulge*1e9, HImass*1e9, Mbary*1e9\n"
   ]
  },
  {
   "cell_type": "code",
   "execution_count": 3,
   "metadata": {},
   "outputs": [],
   "source": [
    "len_tot = 116\n",
    "Rp_arr = np.empty(len_tot) #stores Rp\n",
    "DM_frac = np.empty(len_tot) #stores fraction of galaxies which are DM by mass\n",
    "SB_bary = np.empty(len_tot) #stores baryonic surface brightness\n",
    "Mbary_arr  = np.empty(len_tot) #stores baryonic mass of galaxy\n",
    "ML_disk  = np.full(len_tot, 0.5)\n",
    "ML_bulge  = np.full(len_tot, 0.7)\n",
    "Vp_baryarr = np.empty(len_tot) #stores Vp of baryonic rotation curve\n",
    "Vp_obsarr = np.empty(len_tot) #stores Vp of observed rotation curve\n",
    "index_stoparr = np.empty(len_tot) #stores the array index of Rp\n",
    "index_peakarr = np.empty(len_tot) #stores the array index of the upper bracket for finding Rp\n",
    "\n",
    "M_new =np.empty(len_tot)\n"
   ]
  },
  {
   "cell_type": "code",
   "execution_count": 4,
   "metadata": {},
   "outputs": [],
   "source": [
    "def interpolation(gal_name, mult_factor, start, stop):\n",
    "    ML_disknew, ML_bulgenew = 0.5*mult_factor, 0.7*mult_factor\n",
    "   \n",
    "    vbary = np.sqrt(ML_disknew * sparc[gal_name+\"_Vdisk\"]**2 + ML_bulgenew * sparc[gal_name+\"_Vbul\"]**2 + sparc[gal_name+\"_Vgas\"]**2 )\n",
    "    vbary_orig = np.sqrt(0.5 * sparc[gal_name+\"_Vdisk\"]**2 + 0.7 * sparc[gal_name+\"_Vbul\"]**2 + sparc[gal_name+\"_Vgas\"]**2 )\n",
    "\n",
    "    interp_vobs = interp.UnivariateSpline(sparc[gal_name+\"_rad\"], sparc[gal_name+'_Vobs']) #interpolating points in Vobs\n",
    "    radius_vals = np.linspace(sparc[gal_name+\"_rad\"].min(), sparc[gal_name+\"_rad\"].max(), 1000) #creating radius values for interpolation\n",
    "    interp_vbary = interp.UnivariateSpline(sparc[gal_name+\"_rad\"], vbary) #interpolating points in Vbary\n",
    "    interp_vbary_orig = interp.UnivariateSpline(sparc[gal_name+\"_rad\"], vbary_orig) #interpolating points in Vbary with original M/L\n",
    "    \n",
    "    #bracketing:\n",
    "    index_start =np.argmin(np.abs(start - radius_vals)) #minimum bracket index\n",
    "    index_stop = np.argmin(np.abs(stop - radius_vals))#maximum bracket index\n",
    "    #interp_vbaryderiv = interp_vbary(radius_vals, nu=1)\n",
    "    index_peak = index_start + np.argmax(interp_vbary(radius_vals)[index_start:index_stop]) #gets Vpeak by finding max velocity in Vbary interpolation\n",
    "    \n",
    "    Rp = radius_vals[index_peak] #Rp is the radius corresponding to peak index\n",
    "    Rp_arr[sparc[gal_name+\"_index\"]] = Rp\n",
    "    Vp_bary = interp_vbary(Rp) #putting Rp in interpolation to find Vbary at Rp\n",
    "    Vp_obs = interp_vobs(Rp) #putting Rp in interpolation to find Vobs at Rp\n",
    "    \n",
    "    DM_frac[sparc[gal_name+\"_index\"]] = (Vp_obs - Vp_bary)/Vp_obs #gives fraction of galaxy that contains dark matter\n",
    "    SB_bary[sparc[gal_name+\"_index\"]]  = (3/4) * (Mbary_arr[sparc[gal_name+\"_index\"]]/Rp**2) #baryonic surface brightness\n",
    "    Vp_baryarr[sparc[gal_name+\"_index\"]] = Vp_bary #just adding Vp,bary to array for use outside function\n",
    "    Vp_obsarr[sparc[gal_name+\"_index\"]] = Vp_obs\n",
    "    index_peakarr[sparc[gal_name+\"_index\"]] = index_peak\n",
    "    index_stoparr[sparc[gal_name+\"_index\"]] = index_stop\n",
    "    \n",
    "    Mgas = HImass[sparc[gal_name+\"_index\"]]\n",
    "    Mbulgenew = Lbulge[sparc[gal_name+\"_index\"]] * ML_bulgenew  \n",
    "    Mbulgeold = Lbulge[sparc[gal_name+\"_index\"]] * .7\n",
    "    Mdisknew = (Mbary[sparc[gal_name+\"_index\"]] - Mbulgeold - Mgas)*(ML_disknew/.5)\n",
    "    \n",
    "\n",
    "    M_new[sparc[gal_name+\"_index\"]] = Mdisknew + Mbulgenew +Mgas#luminosity with new M/L        \n",
    "    return Mgas, Mbulgenew, Mdisknew"
   ]
  },
  {
   "cell_type": "markdown",
   "metadata": {},
   "source": [
    "Below, `mult_factor` represents the factor by which the mass to light ratios of the bulge and disk (initially set at 0.7 and 0.5, respectively) are multiplied. For example, setting the slider value to 2 would set $\\Upsilon_{bulge}=1.4, \\Upsilon_{disk}=1$. The diagonal dashed line represents a dlog(V)/dlog(R) of -0.5, which was predicted in [Courteau & Rix (1999)](https://iopscience.iop.org/article/10.1086/306872/meta). However, as playing with the slider shows, the slope doesn't reach nearly that level of steepness.\n",
    "\n",
    "A note about how the mass is calculated with changes in M/L: $\\mathrm{M_{bary} = M_{bulge} + M_{gas} + M_{disk}}$ where \n",
    "- $\\mathrm{M_{bulge} = L_{bulge} * \\Upsilon_{bulge, new}}$\n",
    "- $\\mathrm{M_{gas}}$ is given as the mass of HI gas\n",
    "- $\\mathrm{M_{disk} = (M_{bary} - M_{bulge} - M_{gas}) * \\frac{\\Upsilon_{disk, new}}{\\Upsilon_{disk, old}}}$ where $\\mathrm{M_{bary}}$ comes from [Starkman(2018)](https://academic.oup.com/mnras/article-abstract/480/2/2292/5060779?redirectedFrom=fulltext)"
   ]
  },
  {
   "cell_type": "code",
   "execution_count": 5,
   "metadata": {},
   "outputs": [],
   "source": [
    "def other_plots():\n",
    "\n",
    "    fig, (ax1, ax2) = plt.subplots(nrows=1, ncols=2, figsize=(20, 6))\n",
    "\n",
    "\n",
    "    print('modified M/L = original M/L * mult_factor')\n",
    "\n",
    "    goodvals = np.where((Vp_obsarr > Vp_baryarr) & (index_peakarr < index_stoparr) & (M_new > 0))\n",
    "    \n",
    "    ##Vobs\n",
    "    ax1.scatter(np.log10(Mbary[goodvals]), np.log10(Vp_obsarr[goodvals]),alpha=0.5, label = 'original M/L')\n",
    "    ax1.scatter(np.log10(M_new[goodvals]), np.log10(Vp_obsarr[goodvals]), alpha=0.5, label = ('M/L * mult_factor'))\n",
    "    ax1.set_xlabel('log(M) [Msun]', fontsize = 'large')\n",
    "    ax1.set_ylabel('log(Vobs) [km/s]', fontsize = 'large')\n",
    "    ax1.legend()\n",
    "\n",
    "    coeff,cov=np.polyfit(np.log10(Mbary[goodvals]), np.log10(Vp_obsarr[goodvals]),1,cov=True) #creating best-fit line from original data\n",
    "    coeff_err = np.sqrt(np.diag(cov))\n",
    "    xfit=np.linspace(min(np.log10(Mbary)),max(np.log10(Mbary)),1000)\n",
    "    polynomial=np.poly1d(coeff)\n",
    "    ax1.plot(xfit,polynomial(xfit),color='blue', alpha=.5)\n",
    "    print(' \\n  with original M/L: dV/dM = {:.3f} +/- {:.3f}'.format(coeff[0],coeff_err[0]))\n",
    "    \n",
    "    coeff,cov=np.polyfit(np.log10(M_new[goodvals]), np.log10(Vp_obsarr[goodvals]),1,cov=True) #creating best-fit line from modified data\n",
    "    coeff_err = np.sqrt(np.diag(cov))\n",
    "    xfit=np.linspace(min(np.log10(Mbary)),max(np.log10(Mbary)),1000)\n",
    "    polynomial=np.poly1d(coeff)\n",
    "    ax1.plot(xfit,polynomial(xfit),color='orange')\n",
    "    print('  with modified M/L: dV/dM = {:.3f} +/- {:.3f}'.format(coeff[0],coeff_err[0]))\n",
    "\n",
    "    delt_Vnew = np.log10(Vp_obsarr[goodvals]) - (coeff[0]*np.log10(M_new[goodvals]) + coeff[1]) #delt_v = Vp_obs - (mx+b) where m,b solved in best fit line\n",
    "\n",
    "    ## Rp\n",
    "    ax2.scatter(np.log10(Mbary[goodvals]), np.log10(Rp_arr[goodvals]),alpha=0.5, label = 'original M/L')\n",
    "    ax2.scatter(np.log10(M_new[goodvals]), np.log10(Rp_arr[goodvals]), alpha=0.5,label = ('M/L * mult_factor'))\n",
    "    ax2.set_xlabel('log(M) [Msun]', fontsize = 'large')\n",
    "    ax2.set_ylabel('log(Rp) [kpc]', fontsize = 'large')\n",
    "    ax2.legend()\n",
    "\n",
    "    coeff,cov=np.polyfit(np.log10(Mbary[goodvals]), np.log10(Rp_arr[goodvals]),1,cov=True) #creating best-fit line from original data\n",
    "    coeff_err = np.sqrt(np.diag(cov))\n",
    "    xfit=np.linspace(min(np.log10(Mbary)),max(np.log10(Mbary)),1000)\n",
    "    polynomial=np.poly1d(coeff)\n",
    "    ax2.plot(xfit,polynomial(xfit),color='blue', alpha=.5)\n",
    "    print(' \\n  with original M/L: dR/dM = {:.3f} +/- {:.3f}'.format(coeff[0],coeff_err[0]))\n",
    "\n",
    "    coeff,cov=np.polyfit(np.log10(M_new[goodvals]), np.log10(Rp_arr[goodvals]),1,cov=True) #creating best-fit line from modified data\n",
    "    coeff_err = np.sqrt(np.diag(cov))\n",
    "    xfit=np.linspace(min(np.log10(Mbary)),max(np.log10(Mbary)),1000)\n",
    "    polynomial=np.poly1d(coeff)\n",
    "    ax2.plot(xfit,polynomial(xfit),color='orange')\n",
    "    print('  with modified M/L: dR/dM = {:.3f} +/- {:.3f}'.format(coeff[0],coeff_err[0]))\n",
    "    #print(delt_Vnew, delt_Rnew)\n",
    "\n",
    "    delt_Rnew = np.log10(Rp_arr[goodvals]) - (coeff[0]*np.log10(Mbary[goodvals]) + coeff[1])\n"
   ]
  },
  {
   "cell_type": "code",
   "execution_count": 6,
   "metadata": {},
   "outputs": [],
   "source": [
    "def ML_linear(mult_factor):\n",
    "    ML_disknew = 0.5 * mult_factor\n",
    "    ML_bulgenew = 0.7 * mult_factor\n",
    "\n",
    "    goodvals = np.where((Vp_obsarr > Vp_baryarr) & (index_peakarr < index_stoparr) & (M_new > 0))\n",
    "    \n",
    "    ##Vobs\n",
    "    coeff,cov=np.polyfit(np.log10(M_new[goodvals]), np.log10(Vp_obsarr[goodvals]),1,cov=True) #creating best-fit line from modified data\n",
    "    coeff_err = np.sqrt(np.diag(cov))\n",
    "    xfit=np.linspace(min(np.log10(Mbary)),max(np.log10(Mbary)),1000)\n",
    "    polynomial=np.poly1d(coeff)\n",
    "\n",
    "    delt_Vnew = np.log10(Vp_obsarr[goodvals]) - (coeff[0]*np.log10(M_new[goodvals]) + coeff[1]) #delt_v = Vp_obs - (mx+b) where m,b solved in best fit line\n",
    "\n",
    "    ## Rp\n",
    "    coeff,cov=np.polyfit(np.log10(M_new[goodvals]), np.log10(Rp_arr[goodvals]),1,cov=True) #creating best-fit line from modified data\n",
    "    coeff_err = np.sqrt(np.diag(cov))\n",
    "    xfit=np.linspace(min(np.log10(Mbary)),max(np.log10(Mbary)),1000)\n",
    "    polynomial=np.poly1d(coeff)\n",
    "\n",
    "    delt_Rnew = np.log10(Rp_arr[goodvals]) - (coeff[0]*np.log10(M_new[goodvals]) + coeff[1])\n",
    "    \n",
    "    \n",
    "    plt.figure(figsize=(12,10))\n",
    "    \n",
    "    #goodvals = np.where((Vp_obsarr > Vp_baryarr) & (index_peakarr < index_stoparr))\n",
    "    plt.scatter(delt_Rnew, delt_Vnew, c =np.log10(M_new[goodvals]), cmap=plt.cm.get_cmap('plasma_r'))\n",
    "    plt.colorbar().set_label(\"log(Mbary)\")\n",
    "    plt.axis('equal')\n",
    "    plt.xlabel('d log(Rp)', fontsize = 'large')\n",
    "    plt.ylabel('d log(V)', fontsize = 'large')\n",
    "\n",
    "    coeff,cov=np.polyfit(delt_Rnew, delt_Vnew,1,cov=True)\n",
    "    coeff_err = np.sqrt(np.diag(cov))\n",
    "    xfit=np.linspace(min(delt_Rnew),max(delt_Rnew),1000)\n",
    "    polynomial=np.poly1d(coeff)\n",
    "    plt.plot(xfit,polynomial(xfit),color='green')\n",
    "    print('    slope = {:.6f} +/- {:.3f}'.format(coeff[0],coeff_err[0]))\n",
    "\n",
    "    plt.plot(xfit, xfit*-.5, ls = ':')\n",
    "    plt.axhline(ls = ':')\n",
    "    return coeff[0],coeff_err[0]\n",
    "                                                                              \n",
    "                                                                              "
   ]
  },
  {
   "cell_type": "code",
   "execution_count": 9,
   "metadata": {
    "scrolled": false
   },
   "outputs": [
    {
     "data": {
      "application/vnd.jupyter.widget-view+json": {
       "model_id": "3c1ef86feea64bc089af6e618e609c37",
       "version_major": 2,
       "version_minor": 0
      },
      "text/plain": [
       "interactive(children=(FloatSlider(value=1.0, continuous_update=False, description='mult_factor', max=5.0, min=…"
      ]
     },
     "metadata": {},
     "output_type": "display_data"
    },
    {
     "data": {
      "text/plain": [
       "<function __main__.dVdR(mult_factor)>"
      ]
     },
     "execution_count": 9,
     "metadata": {},
     "output_type": "execute_result"
    }
   ],
   "source": [
    "def dVdR(mult_factor):\n",
    "    for x in range(len(name)):\n",
    "        interpolation(name[x], mult_factor, rad_start[x], rad_stop[x])\n",
    "    slope, slope_err = ML_linear(mult_factor)\n",
    "    return slope, slope_err\n",
    "\n",
    "interact(dVdR, mult_factor=widgets.FloatSlider(value=1, min=0.01, max=5,step=0.01, continuous_update=False)) "
   ]
  },
  {
   "cell_type": "markdown",
   "metadata": {},
   "source": [
    "The graphs below provide a little more insight into the graph above. On the left, I have graphed V vs M (Tully-Fisher) using both the original and new M/L, and fitted best-fit lines for each. The same is done on the right, except with Rp vs M. The dlog(V) and dlog(R) values above are found by calculating the distance between the velocity of a point and the velocity of its corresponding place on the best-fit line, keeping the same luminosity value. \n",
    "\n",
    "Although the above graph updates automatically with changing M/L, you must click the \"press to reload\" button to update the graphs below. "
   ]
  },
  {
   "cell_type": "code",
   "execution_count": 8,
   "metadata": {
    "scrolled": false
   },
   "outputs": [
    {
     "name": "stdout",
     "output_type": "stream",
     "text": [
      "modified M/L = original M/L * mult_factor\n",
      " \n",
      "  with original M/L: dV/dM = 0.276 +/- 0.012\n",
      "  with modified M/L: dV/dM = 0.248 +/- 0.013\n",
      " \n",
      "  with original M/L: dR/dM = 0.343 +/- 0.040\n",
      "  with modified M/L: dR/dM = 0.295 +/- 0.040\n"
     ]
    },
    {
     "data": {
      "application/vnd.jupyter.widget-view+json": {
       "model_id": "23c137cfe6454133b242ffe8654ddb70",
       "version_major": 2,
       "version_minor": 0
      },
      "text/plain": [
       "Button(description='press to reload', style=ButtonStyle())"
      ]
     },
     "metadata": {},
     "output_type": "display_data"
    },
    {
     "data": {
      "image/png": "[encoded data removed]",
      "text/plain": [
       "<Figure size 1440x432 with 2 Axes>"
      ]
     },
     "metadata": {},
     "output_type": "display_data"
    }
   ],
   "source": [
    "def on_button_clicked(b):\n",
    "    IPython.display.clear_output()\n",
    "    other_plots()\n",
    "    display(button)\n",
    "\n",
    "button = widgets.Button(description=\"press to reload\")\n",
    "display(button)\n",
    "button.on_click(on_button_clicked)"
   ]
  }
 ],
 "metadata": {
  "kernelspec": {
   "display_name": "Python 3",
   "language": "python",
   "name": "python3"
  },
  "language_info": {
   "codemirror_mode": {
    "name": "ipython",
    "version": 3
   },
   "file_extension": ".py",
   "mimetype": "text/x-python",
   "name": "python",
   "nbconvert_exporter": "python",
   "pygments_lexer": "ipython3",
   "version": "3.6.5"
  }
 },
 "nbformat": 4,
 "nbformat_minor": 2
}
